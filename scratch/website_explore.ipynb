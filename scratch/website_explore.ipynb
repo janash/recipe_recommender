{
 "cells": [
  {
   "cell_type": "markdown",
   "metadata": {},
   "source": [
    "## bodybuilding.com recipe explore\n",
    "\n",
    "Use beautifulsoup to look at recipes in bb.com database.\n",
    "\n",
    "Sample page : https://www.bodybuilding.com/recipes/pizza-stuffed-chicken-breast"
   ]
  },
  {
   "cell_type": "code",
   "execution_count": null,
   "metadata": {},
   "outputs": [],
   "source": [
    "import bs4\n",
    "import pandas as pd\n",
    "import requests"
   ]
  },
  {
   "cell_type": "code",
   "execution_count": null,
   "metadata": {},
   "outputs": [],
   "source": [
    "# Get the recipe page\n",
    "sample_recipe_page = requests.get('https://www.bodybuilding.com/recipes/pizza-stuffed-chicken-breast')\n",
    "sample_recipe = bs4.BeautifulSoup(sample_recipe_page.content, features='html.parser')"
   ]
  },
  {
   "cell_type": "code",
   "execution_count": null,
   "metadata": {},
   "outputs": [],
   "source": [
    "# Get info from page\n",
    "recipe_name = sample_recipe.find_all('h1', {'class': 'bb-recipe-headline-title'})\n",
    "nutrients = sample_recipe.find_all('span', {'class': \"bb-recipe__meta-nutrient-value\"})\n",
    "nutrient_list = sample_recipe.find_all('span', {'class': \"bb-recipe__meta-nutrient-label\"})\n",
    "tags = sample_recipe.find_all('div', {'class': \"bb-recipe__topic\"})\n",
    "tag_list = set(x.get_text() for x in tags)\n",
    "recipe_time = sample_recipe.find_all('time', {'datetime': 'PT60M'})[0].get_text()\n"
   ]
  },
  {
   "cell_type": "code",
   "execution_count": null,
   "metadata": {},
   "outputs": [],
   "source": [
    "# Get and process ingredients\n",
    "ingredients_unprocessed = sample_recipe.find_all('li', {'class' : 'bb-recipe__ingredient-list-item'})\n",
    "\n",
    "ing = [x.get_text() for x in ingredients_unprocessed]\n",
    "\n",
    "processed_ingredients = [x.split('\\r\\n ') for x in ing]\n",
    "\n",
    "new_list = []\n",
    "\n",
    "for i in processed_ingredients:\n",
    "    step_1 = [x.strip() for x in i]\n",
    "    step_2 = [x.split(',')[0] for x in step_1 if x]\n",
    "    new_list.append(step_2)\n",
    "    \n",
    "ingredients_clean = [x[-1] for x in new_list]\n",
    "\n",
    "print(ingredients_clean)"
   ]
  },
  {
   "cell_type": "code",
   "execution_count": null,
   "metadata": {},
   "outputs": [],
   "source": [
    "# Build a dict for the recipe\n",
    "recipe_dict = { nutrient_list[x].get_text() : nutrients[x].get_text() for x in range(len(nutrient_list))}\n",
    "recipe_dict['name'] = recipe_name[0].get_text()\n",
    "recipe_dict['ingredients'] = [ingredients_clean]\n",
    "recipe_dict[\"tags\"] = tag_list\n",
    "recipe_dict[\"time\"] = recipe_time"
   ]
  },
  {
   "cell_type": "code",
   "execution_count": null,
   "metadata": {},
   "outputs": [],
   "source": [
    "recipe_df = pd.DataFrame(recipe_dict, index=[0])"
   ]
  },
  {
   "cell_type": "code",
   "execution_count": null,
   "metadata": {},
   "outputs": [],
   "source": [
    "print(recipe_df)"
   ]
  }
 ],
 "metadata": {
  "kernelspec": {
   "display_name": "Python 3",
   "language": "python",
   "name": "python3"
  },
  "language_info": {
   "codemirror_mode": {
    "name": "ipython",
    "version": 3
   },
   "file_extension": ".py",
   "mimetype": "text/x-python",
   "name": "python",
   "nbconvert_exporter": "python",
   "pygments_lexer": "ipython3",
   "version": "3.6.7"
  }
 },
 "nbformat": 4,
 "nbformat_minor": 2
}
