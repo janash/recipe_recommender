{
 "cells": [
  {
   "cell_type": "code",
   "execution_count": null,
   "metadata": {},
   "outputs": [],
   "source": [
    "import numpy as np\n",
    "import pandas as pd\n",
    "import numpy as np\n",
    "import matplotlib.pyplot as plt\n",
    "%matplotlib inline\n",
    "\n",
    "import json\n",
    "from pprint import pprint"
   ]
  },
  {
   "cell_type": "code",
   "execution_count": null,
   "metadata": {},
   "outputs": [],
   "source": [
    "bb_data = pd.read_csv('../data/bodybuilding_recipes.csv')"
   ]
  },
  {
   "cell_type": "code",
   "execution_count": null,
   "metadata": {},
   "outputs": [],
   "source": [
    "bb_data.columns.values"
   ]
  },
  {
   "cell_type": "code",
   "execution_count": null,
   "metadata": {},
   "outputs": [],
   "source": [
    "ingredients = []\n",
    "for ingredient_list in bb_data.recipeIngredient:\n",
    "    split_list = ingredient_list.replace('[', '').replace(']','').split(',')\n",
    "    print(split_list)"
   ]
  },
  {
   "cell_type": "code",
   "execution_count": null,
   "metadata": {},
   "outputs": [],
   "source": [
    "print(len(ingredients))"
   ]
  },
  {
   "cell_type": "code",
   "execution_count": null,
   "metadata": {},
   "outputs": [],
   "source": [
    "import json\n",
    "from pprint import pprint\n",
    "\n",
    "with open('../data/bodybuilding_recipes.json') as f:\n",
    "    data = json.load(f)"
   ]
  },
  {
   "cell_type": "code",
   "execution_count": null,
   "metadata": {},
   "outputs": [],
   "source": [
    "data[0].keys()"
   ]
  },
  {
   "cell_type": "code",
   "execution_count": null,
   "metadata": {},
   "outputs": [],
   "source": [
    "data[0]['schemaOrg']"
   ]
  },
  {
   "cell_type": "code",
   "execution_count": null,
   "metadata": {},
   "outputs": [],
   "source": [
    "ingredients = data[10]['schemaOrg']['recipeIngredient']\n",
    "print(len(ingredients))"
   ]
  },
  {
   "cell_type": "code",
   "execution_count": null,
   "metadata": {},
   "outputs": [],
   "source": [
    "import re\n",
    "\n",
    "\n",
    "regex = r'[-+]?(?:\\d*?[.])?\\d+',\n",
    "\n",
    "\n",
    "for ingredient in ingredients:\n",
    "    ingredient = ingredient.replace(u\"½\", u\".5\")\n",
    "    ingredient = ingredient.replace(u\"¼\", u\".25\")\n",
    "    split_ingredients = ingredient.split('-')\n",
    "    this_ingredient = split_ingredients[0].strip()\n",
    "    \n",
    "    split_again = split_ingredients[1].split(' ')\n",
    "    if len(split_again)==3:\n",
    "        _, amount, unit = split_again\n",
    "    elif len(split_again)==4:\n",
    "        _, amount, unit,_ = split_again\n",
    "    elif len(split_again) == 2:\n",
    "        amount = 0\n",
    "        unit = 'N/A'        \n",
    "    print(this_ingredient, float(amount), unit)\n",
    "        \n",
    "    print('')"
   ]
  },
  {
   "cell_type": "code",
   "execution_count": null,
   "metadata": {},
   "outputs": [],
   "source": [
    "all_ingredients = []\n",
    "all_amounts = []\n",
    "all_units = []\n",
    "all_descriptors = []\n",
    "recipe_ids = []\n",
    "for dat in data:\n",
    "    recipe_id = dat['id']\n",
    "    dat = dat['schemaOrg']\n",
    "    if 'recipeIngredient' in dat.keys():\n",
    "        ingredients = dat['recipeIngredient']\n",
    "        for ingredient in ingredients:\n",
    "            descriptor = None\n",
    "            recipe_ids.append(recipe_id)\n",
    "\n",
    "            ingredient = ingredient.replace(u\"½\", u\".5\")\n",
    "            ingredient = ingredient.replace(u\"¼\", u\".25\")\n",
    "            ingredient = ingredient.replace(u\"¾\", u\".75\")\n",
    "            ingredient = ingredient.replace(u\"⅛\", u\".125\")\n",
    "            # print(ingredient)\n",
    "            split_ingredients = ingredient.split(' -')\n",
    "            this_ingredient = split_ingredients[0].strip()\n",
    "\n",
    "            split_again = split_ingredients[1].split(' ')\n",
    "            if len(split_again)==3:\n",
    "                _, amount, unit = split_again\n",
    "            elif len(split_again)==4:\n",
    "                _, amount, unit,_ = split_again\n",
    "            elif len(split_again) == 2:\n",
    "                amount = 0\n",
    "                unit = None \n",
    "            else:\n",
    "                amount = split_again[1]\n",
    "                unit = split_again[2]\n",
    "            #print(ingredient)\n",
    "            try:\n",
    "                amount = float(amount)\n",
    "            except ValueError:\n",
    "                amount = 0\n",
    "                unit = None\n",
    "            \n",
    "            with_descriptors = this_ingredient.split(',')\n",
    "            if len(with_descriptors)>1:\n",
    "                try:\n",
    "                    this_ingredient = with_descriptors[0]\n",
    "                    # print(with_descriptors)\n",
    "                    with_descriptors = with_descriptors[1:]\n",
    "                    # print(with_descriptors)\n",
    "                   \n",
    "                    descriptor = ' '.join(with_descriptors).strip()\n",
    "                    # print(descriptor)\n",
    "                    # print('')\n",
    "                    \n",
    "                except:\n",
    "                    print(with_descriptors)\n",
    "            else:\n",
    "                descriptor = None\n",
    "            #print(this_ingredient, float(amount), unit)\n",
    "        \n",
    "            all_ingredients.append(this_ingredient.lower())\n",
    "            all_amounts.append(amount)\n",
    "            all_units.append(unit)\n",
    "            if descriptor:\n",
    "                print('hello', descriptor)\n",
    "            all_descriptors.append(descriptor)\n",
    "            #print('')"
   ]
  },
  {
   "cell_type": "code",
   "execution_count": null,
   "metadata": {},
   "outputs": [],
   "source": [
    "len(set(all_descriptors))"
   ]
  },
  {
   "cell_type": "code",
   "execution_count": null,
   "metadata": {},
   "outputs": [],
   "source": [
    "all_ingredient_set = list(set(all_ingredients))\n",
    "print(len(all_ingredient_set))"
   ]
  },
  {
   "cell_type": "code",
   "execution_count": null,
   "metadata": {},
   "outputs": [],
   "source": [
    "sorted(all_ingredient_set)"
   ]
  },
  {
   "cell_type": "code",
   "execution_count": null,
   "metadata": {},
   "outputs": [],
   "source": [
    "recipe_ingredient_table = pd.DataFrame({'recipe_id':recipe_ids, 'ingredient':all_ingredients, 'amount':all_amounts, 'descriptor':all_descriptors})\n"
   ]
  },
  {
   "cell_type": "code",
   "execution_count": null,
   "metadata": {
    "scrolled": false
   },
   "outputs": [],
   "source": [
    "vcs = recipe_ingredient_table['ingredient'].value_counts()"
   ]
  },
  {
   "cell_type": "code",
   "execution_count": null,
   "metadata": {},
   "outputs": [],
   "source": [
    "for index, entry in vcs.iteritems():\n",
    "    print(index, entry)"
   ]
  },
  {
   "cell_type": "code",
   "execution_count": null,
   "metadata": {},
   "outputs": [],
   "source": [
    "recipe_ingredient_table['descriptor'].value_counts()"
   ]
  },
  {
   "cell_type": "code",
   "execution_count": null,
   "metadata": {},
   "outputs": [],
   "source": []
  },
  {
   "cell_type": "code",
   "execution_count": null,
   "metadata": {},
   "outputs": [],
   "source": []
  }
 ],
 "metadata": {
  "kernelspec": {
   "display_name": "Python 3",
   "language": "python",
   "name": "python3"
  },
  "language_info": {
   "codemirror_mode": {
    "name": "ipython",
    "version": 3
   },
   "file_extension": ".py",
   "mimetype": "text/x-python",
   "name": "python",
   "nbconvert_exporter": "python",
   "pygments_lexer": "ipython3",
   "version": "3.6.7"
  }
 },
 "nbformat": 4,
 "nbformat_minor": 2
}
